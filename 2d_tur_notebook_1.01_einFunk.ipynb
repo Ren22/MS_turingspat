{
 "cells": [
  {
   "cell_type": "markdown",
   "metadata": {},
   "source": [
    "## Profiles"
   ]
  },
  {
   "cell_type": "code",
   "execution_count": 1,
   "metadata": {
    "collapsed": true
   },
   "outputs": [],
   "source": [
    "from neuron import h, rxd\n",
    "import numpy as np\n",
    "import matplotlib.pyplot as plt\n",
    "from IPython.display import clear_output\n",
    "%matplotlib inline"
   ]
  },
  {
   "cell_type": "code",
   "execution_count": 2,
   "metadata": {
    "collapsed": true
   },
   "outputs": [],
   "source": [
    "def wave_search(size, size_segments, time_period, times, av, Du):\n",
    "    clear_output()\n",
    "    # needed for standard run system\n",
    "    h.load_file('stdrun.hoc')\n",
    "    \n",
    "    global dend\n",
    "    \n",
    "    dend = h.Section()\n",
    "    dend.L = size\n",
    "    dend.nseg = size_segments\n",
    "\n",
    "    # WHERE the dynamics will take place\n",
    "    where = rxd.Region(h.allsec())\n",
    "\n",
    "    # WHO the actors are\n",
    "    global u\n",
    "    global z\n",
    "    global v\n",
    "\n",
    "    u = rxd.Species(where, d=Du, initial=0.5) #activator\n",
    "    z = rxd.Species(where, d=20, initial=0.5) #inhibitor\n",
    "    v = rxd.Species(where, d = 0, initial = (1/dend.L)*100) #modulator\n",
    "\n",
    "    # HOW they act\n",
    "\n",
    "    a = av;\n",
    "    b = -0.4;\n",
    "    c = 0.6;\n",
    "    d = -0.8;\n",
    "    u0 = 0.5;\n",
    "    z0 = 0.5;\n",
    "    av = 5.0;\n",
    "    kz = 0.001;\n",
    "\n",
    "    bistable_reaction1 = rxd.Rate(u, (a * (u - u0) + b * (z - z0) - av * (u - u0) ** 3) * (v ** -2))\n",
    "    bistable_reaction2 = rxd.Rate(z, (c * (u - u0) + d * (z - z0)) * (v ** -2))\n",
    "\n",
    "    # initial conditions \n",
    "    h.finitialize()\n",
    "    for node in u.nodes:\n",
    "        if node.x < .2: node.concentration = 0.6\n",
    "#         if node.x > .8: node.concentration = 0.6\n",
    "    for node in z.nodes:\n",
    "        if node.x < .2: node.concentration = 0.6\n",
    "#         if node.x > .8: node.concentration = 0.6\n",
    "\n",
    "    #Setting up time frame\n",
    "    \n",
    "    T_d = times\n",
    "    T = time_period\n",
    "    u_timespace = []\n",
    "\n",
    "    for i in xrange(1, T_d):\n",
    "        h.continuerun(i * T)\n",
    "        u_timespace.append(u.nodes.concentration)\n",
    "        \n",
    "    #FFT calculation and finding the wavelength of pattern (#Searching for max element in the list of FFT values)\n",
    "\n",
    "    #activator FFT source files\n",
    "    u_fft_y = u.nodes.concentration\n",
    "    u_fft_y = u_fft_y - np.mean(u_fft_y)\n",
    "    u_fft_x = u.nodes.x\n",
    "    u_fft_x_norm = dend.L * np.array(u_fft_x)\n",
    "\n",
    "    #inhibitor FFT source files\n",
    "    z_fft_y = z.nodes.concentration\n",
    "    z_fft_y = z_fft_y - np.mean(z_fft_y)\n",
    "    z_fft_x = z.nodes.x\n",
    "    z_fft_x_norm = dend.L * np.array(u_fft_x)\n",
    "\n",
    "    #activator FFT\n",
    "    Y1 = np.fft.fft(u_fft_y)\n",
    "    N = len(Y1)/2+1\n",
    "    dt = dend.L/dend.nseg\n",
    "    fa = 1.0/dt\n",
    "    X = np.linspace(0, fa/2, N, endpoint=True)\n",
    "\n",
    "    #inhibitor FFT\n",
    "    Y2 = np.fft.fft(z_fft_y)\n",
    "    X2 = np.linspace(0, fa/2, N, endpoint=True)\n",
    "\n",
    "\n",
    "    if (len(X) == len(2.0*np.abs(Y1[:N]/N))):\n",
    "        u_maxx = (np.argmax(2.0*np.abs(Y1[:N]/N)))\n",
    "        wavelen = np.around(1/X[u_maxx])\n",
    "    \n",
    "    return wavelen"
   ]
  },
  {
   "cell_type": "markdown",
   "metadata": {},
   "source": [
    "## Ploting"
   ]
  },
  {
   "cell_type": "code",
   "execution_count": 3,
   "metadata": {
    "collapsed": true
   },
   "outputs": [],
   "source": [
    "def plot_it():\n",
    "    clear_output()\n",
    "    #Activator plt\n",
    "    y1 = u.nodes.concentration\n",
    "    x1 = u.nodes.x\n",
    "\n",
    "    # convert x from normalized position to microns\n",
    "    x1 = dend.L * np.array(x1)\n",
    "    \n",
    "    plt.figure(figsize=(20,10))\n",
    "    plt.subplot(221)\n",
    "    plt.title('Activator profile')\n",
    "    plt.xlabel('System size')\n",
    "    plt.ylabel('Concentration')\n",
    "    plt.plot(x1, y1, '-b')\n",
    "    \n",
    "    #Inhibitor plt\n",
    "    y2 = z.nodes.concentration\n",
    "    x2 = z.nodes.x\n",
    "\n",
    "    # convert x from normalized position to microns\n",
    "    x2 = dend.L * np.array(x2)\n",
    "    \n",
    "    plt.subplot(222)\n",
    "    plt.title('Inhibitor profile')\n",
    "    plt.xlabel('System size')\n",
    "    plt.ylabel('Concentration')\n",
    "    plt.plot(x2, y2, '-r')\n",
    "    \n",
    "    #Modulator plt\n",
    "    y3 = v.nodes.concentration\n",
    "    x3 = v.nodes.x\n",
    "    \n",
    "    # convert x from normalized position to microns\n",
    "    x3 = dend.L * np.array(x3)\n",
    "    \n",
    "    plt.subplot(223)\n",
    "    plt.title('Modulator profile')\n",
    "    plt.xlabel('System size')\n",
    "    plt.ylabel('Concentration')\n",
    "    plt.plot(x3, y3, '-g')"
   ]
  },
  {
   "cell_type": "markdown",
   "metadata": {},
   "source": [
    "## Main code"
   ]
  },
  {
   "cell_type": "code",
   "execution_count": 4,
   "metadata": {},
   "outputs": [
    {
     "name": "stdout",
     "output_type": "stream",
     "text": [
      "[40.0]\n"
     ]
    }
   ],
   "source": [
    "#Setting parameters wave_search(size, size_segments, time_period, times, av, Du) and the space frame \n",
    "clear_output()\n",
    "wl_array = []\n",
    "for i in xrange(40,50,10):\n",
    "    print(i)\n",
    "    wl_array.append(wave_search(i, 2*i, 10, 50, 0.2, 1.2))\n",
    "print(wl_array)"
   ]
  },
  {
   "cell_type": "code",
   "execution_count": 5,
   "metadata": {},
   "outputs": [
    {
     "data": {
      "image/png": "[encoded data removed]",
      "text/plain": [
       "<matplotlib.figure.Figure at 0x1062bcd90>"
      ]
     },
     "metadata": {},
     "output_type": "display_data"
    }
   ],
   "source": [
    "#Plot the last time step result\n",
    "    \n",
    "plot_it()"
   ]
  },
  {
   "cell_type": "code",
   "execution_count": 6,
   "metadata": {
    "collapsed": true
   },
   "outputs": [],
   "source": [
    "# #FFT results show\n",
    "\n",
    "# plt.figure(figsize=(20,10)) #figsize w,h tuple in inches\n",
    "# plt.subplot(221)\n",
    "# plt.plot(u_fft_x_norm,u_fft_y,'-b')\n",
    "# plt.xlabel('System size')\n",
    "# plt.ylabel('Amplitude - Mean')\n",
    "# plt.title('Activator profile')\n",
    "\n",
    "# plt.subplot(222)\n",
    "# plt.plot(X, 2.0*np.abs(Y1[:N]/N),'-o')\n",
    "# plt.xlabel('Freq (Hz)')\n",
    "# plt.ylabel('|Y(freq)|')\n",
    "# plt.title('Frequency domain')\n",
    "\n",
    "# plt.subplot(223)\n",
    "# plt.plot(z_fft_x_norm,z_fft_y,'-r')\n",
    "# plt.xlabel('System size')\n",
    "# plt.ylabel('Amplitude - Mean')\n",
    "# plt.title('Inhibitor profile')\n",
    "\n",
    "# plt.subplot(224)\n",
    "# plt.plot(X2, 2.0*np.abs(Y2[:N]/N),'-o')\n",
    "# plt.xlabel('Freq (Hz)')\n",
    "# plt.ylabel('|Y(freq)|')\n",
    "# plt.title('Frequency domain')\n",
    "\n",
    "# clear_output()\n",
    "# # plt.show()"
   ]
  },
  {
   "cell_type": "code",
   "execution_count": 7,
   "metadata": {
    "collapsed": true
   },
   "outputs": [],
   "source": [
    "# clear_output()\n",
    "# import subprocess\n",
    "# subprocess.call(['osascript', '-e', 'tell application \"XQuartz\" to quit'])"
   ]
  }
 ],
 "metadata": {
  "kernelspec": {
   "display_name": "2.7fipy",
   "language": "python",
   "name": "2.7fipy"
  },
  "language_info": {
   "codemirror_mode": {
    "name": "ipython",
    "version": 2
   },
   "file_extension": ".py",
   "mimetype": "text/x-python",
   "name": "python",
   "nbconvert_exporter": "python",
   "pygments_lexer": "ipython2",
   "version": "2.7.13"
  }
 },
 "nbformat": 4,
 "nbformat_minor": 2
}
